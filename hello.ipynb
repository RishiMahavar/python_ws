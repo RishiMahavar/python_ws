{
 "cells": [
  {
   "cell_type": "code",
   "execution_count": 1,
   "metadata": {},
   "outputs": [
    {
     "name": "stdout",
     "output_type": "stream",
     "text": [
      "chat with me with your requirements:run player\n"
     ]
    }
   ],
   "source": [
    "import pyttsx3\n",
    "import os\n",
    "\n",
    "#pyttsx3.speak(\"welocome my tool\")\n",
    "\n",
    "\n",
    "print(\"chat with me with your requirements:\" , end='')\n",
    "\n",
    "p = input()\n",
    "\n",
    "#print(p)\n",
    "#os.system(p)\n",
    "\n",
    "if (\"run\" in p) and ((\"player\" in p) or (\"media\" in p)):\n",
    "  os.system(\"wmplayer\")\n",
    "\n",
    "elif ((\"run\" in p) or (\"execute\" in p)) and ((\"notepad\" in p) or (\"editor\" in p)):\n",
    "  os.system(\"notepad\")\n",
    "\n",
    "else:\n",
    "  print(\"Does't Support\")"
   ]
  },
  {
   "cell_type": "code",
   "execution_count": 2,
   "metadata": {},
   "outputs": [
    {
     "name": "stdout",
     "output_type": "stream",
     "text": [
      "12345\n"
     ]
    }
   ],
   "source": [
    "print(12345)"
   ]
  },
  {
   "cell_type": "code",
   "execution_count": null,
   "metadata": {},
   "outputs": [],
   "source": []
  }
 ],
 "metadata": {
  "interpreter": {
   "hash": "7b0d87022f19d2f5cd1d457d1622bd5dd4fcebe808d64c52798e3c6608d74b02"
  },
  "kernelspec": {
   "display_name": "Python 3 (ipykernel)",
   "language": "python",
   "name": "python3"
  },
  "language_info": {
   "codemirror_mode": {
    "name": "ipython",
    "version": 3
   },
   "file_extension": ".py",
   "mimetype": "text/x-python",
   "name": "python",
   "nbconvert_exporter": "python",
   "pygments_lexer": "ipython3",
   "version": "3.9.7"
  }
 },
 "nbformat": 4,
 "nbformat_minor": 2
}
